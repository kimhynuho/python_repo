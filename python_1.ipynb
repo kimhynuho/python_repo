{
  "nbformat": 4,
  "nbformat_minor": 0,
  "metadata": {
    "colab": {
      "name": "python_1.ipynb",
      "provenance": [],
      "authorship_tag": "ABX9TyOyylReAO5q35459GntOFZU",
      "include_colab_link": true
    },
    "kernelspec": {
      "name": "python3",
      "display_name": "Python 3"
    },
    "language_info": {
      "name": "python"
    }
  },
  "cells": [
    {
      "cell_type": "markdown",
      "metadata": {
        "id": "view-in-github",
        "colab_type": "text"
      },
      "source": [
        "<a href=\"https://colab.research.google.com/github/kimhynuho/python_repo/blob/main/python_1.ipynb\" target=\"_parent\"><img src=\"https://colab.research.google.com/assets/colab-badge.svg\" alt=\"Open In Colab\"/></a>"
      ]
    },
    {
      "cell_type": "code",
      "execution_count": 1,
      "metadata": {
        "colab": {
          "base_uri": "https://localhost:8080/"
        },
        "id": "B7zq4g2gqCyQ",
        "outputId": "2cf3f4c6-4bb2-4880-b180-899c08ab41f6"
      },
      "outputs": [
        {
          "output_type": "stream",
          "name": "stdout",
          "text": [
            "Hello World\n"
          ]
        }
      ],
      "source": [
        "print(\"Hello World\")"
      ]
    },
    {
      "cell_type": "code",
      "execution_count": 2,
      "metadata": {
        "colab": {
          "base_uri": "https://localhost:8080/"
        },
        "outputId": "c8c6e025-c520-4e10-99d8-ac7b4fe6ef1d",
        "id": "UOjBg4oiqtw0"
      },
      "outputs": [
        {
          "output_type": "stream",
          "name": "stdout",
          "text": [
            "Hello World\n"
          ]
        }
      ],
      "source": [
        "print('Hello World')"
      ]
    },
    {
      "cell_type": "code",
      "source": [
        "print(1+2)"
      ],
      "metadata": {
        "colab": {
          "base_uri": "https://localhost:8080/"
        },
        "id": "_JRRJzSBq0xf",
        "outputId": "b9eeac4f-17e4-4ecc-96c6-a9c4d969701d"
      },
      "execution_count": 3,
      "outputs": [
        {
          "output_type": "stream",
          "name": "stdout",
          "text": [
            "3\n"
          ]
        }
      ]
    },
    {
      "cell_type": "code",
      "source": [
        "print(2*3)"
      ],
      "metadata": {
        "colab": {
          "base_uri": "https://localhost:8080/"
        },
        "id": "5JviF4wtrF0C",
        "outputId": "3a2d3c1f-6f25-4569-b776-e6d9fddf4e14"
      },
      "execution_count": 5,
      "outputs": [
        {
          "output_type": "stream",
          "name": "stdout",
          "text": [
            "6\n"
          ]
        }
      ]
    },
    {
      "cell_type": "code",
      "source": [
        "print(True)"
      ],
      "metadata": {
        "colab": {
          "base_uri": "https://localhost:8080/"
        },
        "id": "5p3Alt5PsC-c",
        "outputId": "f1ce6b0d-d275-4bb0-90e4-c4f210da5b02"
      },
      "execution_count": 6,
      "outputs": [
        {
          "output_type": "stream",
          "name": "stdout",
          "text": [
            "True\n"
          ]
        }
      ]
    },
    {
      "cell_type": "code",
      "source": [
        "print(False)"
      ],
      "metadata": {
        "colab": {
          "base_uri": "https://localhost:8080/"
        },
        "id": "SGAFN_lOsIN6",
        "outputId": "9dcc0595-e741-4de9-f3ae-ae034d2160c1"
      },
      "execution_count": 7,
      "outputs": [
        {
          "output_type": "stream",
          "name": "stdout",
          "text": [
            "False\n"
          ]
        }
      ]
    },
    {
      "cell_type": "code",
      "source": [
        "a=3; b=4; c=a+b; print(c);print(a); print(b); "
      ],
      "metadata": {
        "colab": {
          "base_uri": "https://localhost:8080/"
        },
        "id": "xzden35xsMqc",
        "outputId": "5f741539-6933-4cd2-c433-361e7dc82a42"
      },
      "execution_count": 9,
      "outputs": [
        {
          "output_type": "stream",
          "name": "stdout",
          "text": [
            "7\n",
            "3\n",
            "4\n"
          ]
        }
      ]
    },
    {
      "cell_type": "code",
      "source": [
        "a=\"안녕하세요.\";\n",
        "b=\"반갑습니다\";\n",
        "c=a+b;\n",
        "print(c)"
      ],
      "metadata": {
        "colab": {
          "base_uri": "https://localhost:8080/"
        },
        "id": "hdhmIRiOsvib",
        "outputId": "ce305ea6-e326-4bb2-ac7d-f56813a08e67"
      },
      "execution_count": 11,
      "outputs": [
        {
          "output_type": "stream",
          "name": "stdout",
          "text": [
            "안녕하세요.반갑습니다\n"
          ]
        }
      ]
    },
    {
      "cell_type": "code",
      "source": [
        "a=\"안녕하세요.\";\n",
        "b=a*10;\n",
        "print(b)"
      ],
      "metadata": {
        "colab": {
          "base_uri": "https://localhost:8080/"
        },
        "id": "nTXIqpD_tFA0",
        "outputId": "feacc7cc-5bde-477a-d770-3ed7b88c17e9"
      },
      "execution_count": 12,
      "outputs": [
        {
          "output_type": "stream",
          "name": "stdout",
          "text": [
            "안녕하세요.안녕하세요.안녕하세요.안녕하세요.안녕하세요.안녕하세요.안녕하세요.안녕하세요.안녕하세요.안녕하세요.\n"
          ]
        }
      ]
    },
    {
      "cell_type": "code",
      "source": [
        "print(\"###############\")\n",
        "print(\"#\"*15)"
      ],
      "metadata": {
        "colab": {
          "base_uri": "https://localhost:8080/"
        },
        "id": "I0k9OSqktSfc",
        "outputId": "fb5726ec-ac78-41ff-c3b4-6ef3e301eb9d"
      },
      "execution_count": 14,
      "outputs": [
        {
          "output_type": "stream",
          "name": "stdout",
          "text": [
            "###############\n",
            "###############\n"
          ]
        }
      ]
    },
    {
      "cell_type": "markdown",
      "source": [
        "아버지와 어머니 그리고 삼촌에게 감사한 마음을 전하고 싶습니다.아버지에는 10만원,어머니에게는 15만원,삼촌에게는 \"감사합니다.\"변수:_Father,_Mother,_Uncle"
      ],
      "metadata": {
        "id": "RZwDeqhptvYz"
      }
    },
    {
      "cell_type": "code",
      "source": [
        "_Father=\"100,000\"\n",
        "_Mother=\"150,000\"\n",
        "_Uncle=\"감사합니다.\"\n",
        "Thanks= _Father, _Mother, _Uncle\n",
        "print(\"아버지=\", _Father,\"원\")\n",
        "print(\"어머니=\", _Mother,\"원\")\n",
        "print(\"삼촌=\", _Uncle)"
      ],
      "metadata": {
        "colab": {
          "base_uri": "https://localhost:8080/"
        },
        "id": "IscLA4NHuKbV",
        "outputId": "06cc4ae4-a67f-4618-c2d3-b41bb3876899"
      },
      "execution_count": 16,
      "outputs": [
        {
          "output_type": "stream",
          "name": "stdout",
          "text": [
            "아버지= 100,000 원\n",
            "어머니= 150,000 원\n",
            "삼촌= 감사합니다.\n"
          ]
        }
      ]
    },
    {
      "cell_type": "markdown",
      "source": [
        "변수의 규칙:문자 또는 _로 시작(Father,father,_father),문자, 숫자, _구성\n",
        "(Father69, father55, father_56),공백 절대 안된다.안쓰는 것이 좋다. 특수문자 절대 안된다."
      ],
      "metadata": {
        "id": "40hbmpU_vLx7"
      }
    },
    {
      "cell_type": "markdown",
      "source": [
        "FATHER, father, MOTHER, mother, _Father, _father, Keyword(True, False, for , while, if, continue,break,class...)"
      ],
      "metadata": {
        "id": "NVVfbh2mvtNx"
      }
    },
    {
      "cell_type": "markdown",
      "source": [
        "숫자자료형=숫자, 문자자료형=모든 문자들.."
      ],
      "metadata": {
        "id": "EU7nb4qhwKzF"
      }
    },
    {
      "cell_type": "code",
      "source": [
        "a=2\n",
        "b=\"2\"\n",
        "c=a+int(b)\n",
        "print(c)"
      ],
      "metadata": {
        "colab": {
          "base_uri": "https://localhost:8080/"
        },
        "id": "7jMDXM3swWsG",
        "outputId": "8ac1d7ee-7aab-451a-c56d-6e8c6c7c747d"
      },
      "execution_count": 19,
      "outputs": [
        {
          "output_type": "stream",
          "name": "stdout",
          "text": [
            "4\n"
          ]
        }
      ]
    },
    {
      "cell_type": "markdown",
      "source": [
        "형변환:int(),float(),\n",
        "문자자료형으로 변환하고자할때 str(),int(float(\"2.5\"))"
      ],
      "metadata": {
        "id": "kj1Y7mwSwjAz"
      }
    },
    {
      "cell_type": "markdown",
      "source": [
        "산술연산자 : +더하기(print(4+3)),-빼기(print(2-1)),*곱하기(print(5*4)),/\n",
        "나누기(print(4/2)), %나머지print(5%2),//몫print(6//2), **거듭제곱\n",
        "print(4**2)"
      ],
      "metadata": {
        "id": "oHaHq1FlxPnX"
      }
    },
    {
      "cell_type": "markdown",
      "source": [
        ""
      ],
      "metadata": {
        "id": "Z6ZrJ3A8wh4P"
      }
    }
  ]
}