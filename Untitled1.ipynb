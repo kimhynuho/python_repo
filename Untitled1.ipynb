{
  "nbformat": 4,
  "nbformat_minor": 0,
  "metadata": {
    "colab": {
      "name": "Untitled1.ipynb",
      "provenance": [],
      "authorship_tag": "ABX9TyNI2ohe69F/AlO4y14I23Nv",
      "include_colab_link": true
    },
    "kernelspec": {
      "name": "python3",
      "display_name": "Python 3"
    },
    "language_info": {
      "name": "python"
    }
  },
  "cells": [
    {
      "cell_type": "markdown",
      "metadata": {
        "id": "view-in-github",
        "colab_type": "text"
      },
      "source": [
        "<a href=\"https://colab.research.google.com/github/kimhynuho/python_repo/blob/main/Untitled1.ipynb\" target=\"_parent\"><img src=\"https://colab.research.google.com/assets/colab-badge.svg\" alt=\"Open In Colab\"/></a>"
      ]
    },
    {
      "cell_type": "code",
      "execution_count": null,
      "metadata": {
        "id": "8uhhZ0nzlMOH"
      },
      "outputs": [],
      "source": [
        "import math # 1. math라는 수학 모듈을 가져온다. #from math import sqrt # 2. math라는 수학모듈에서 근의 공식을 구하는 수학 함수 sqrt만을가져온다. print (\"'a, b, c' 3개의 값을 입력하시오\")\n",
        "a = int(input(\"Enter the a: \")) # a값을 int로 입력받는다. b = int(input(\"Enter the b: \")) # b값을 int로 입력받는다. c = int(input(\"Enter the c: \")) # c값을 int로 입력받는다. d = math.sqrt(b*b) - (4*a*c); # 1. math 모듈을 가져올때는 이렇게 사용\n",
        "#d = sqrt(b*b) - (4*a*c); # 2. sqrt 함수만을 가져올때는 이렇게 사용\n",
        "x1 = (-b+d) / (2 * a);\n",
        "x2 = (-b-d) / (2 * a);\n",
        "print(x1, x2)"
      ]
    }
  ]
}