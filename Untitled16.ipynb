{
  "nbformat": 4,
  "nbformat_minor": 0,
  "metadata": {
    "colab": {
      "name": "Untitled16.ipynb",
      "provenance": [],
      "authorship_tag": "ABX9TyPANormlUvbFfV+tL1kVjwf",
      "include_colab_link": true
    },
    "kernelspec": {
      "name": "python3",
      "display_name": "Python 3"
    },
    "language_info": {
      "name": "python"
    }
  },
  "cells": [
    {
      "cell_type": "markdown",
      "metadata": {
        "id": "view-in-github",
        "colab_type": "text"
      },
      "source": [
        "<a href=\"https://colab.research.google.com/github/kimhynuho/python_repo/blob/main/Untitled16.ipynb\" target=\"_parent\"><img src=\"https://colab.research.google.com/assets/colab-badge.svg\" alt=\"Open In Colab\"/></a>"
      ]
    },
    {
      "cell_type": "code",
      "execution_count": null,
      "metadata": {
        "id": "C7Ywt3clzKmZ"
      },
      "outputs": [],
      "source": [
        "print(\"########################\")\n",
        "print(\"# 배송료 계산 프로그램 #\")\n",
        "print(\"########################\")\n",
        "price= int(input(\"상품의 가격을 입력하세요: \"))\n",
        "if price > 2000:\n",
        " shipping_cost = 0\n",
        "else:\n",
        " shipping_cost = 3000\n",
        "print(shipping_cost)"
      ]
    }
  ]
}